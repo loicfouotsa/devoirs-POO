{
 "cells": [
  {
   "cell_type": "markdown",
   "id": "9ddaa18d",
   "metadata": {},
   "source": [
    "# Exercice 1"
   ]
  },
  {
   "cell_type": "code",
   "execution_count": null,
   "id": "37e61995",
   "metadata": {},
   "outputs": [],
   "source": [
    "nom = input(\"Veuillez saisir votre nom : \")\n",
    "print(f\"Bienvenue, {nom}!\")"
   ]
  },
  {
   "cell_type": "markdown",
   "id": "2aa52f74",
   "metadata": {},
   "source": [
    "## Exercice 2"
   ]
  },
  {
   "cell_type": "code",
   "execution_count": null,
   "id": "e3416b11",
   "metadata": {},
   "outputs": [],
   "source": [
    "a = float(input(\"Saisir le premier nombre : \"))\n",
    "b = float(input(\"Saisir le second nombre : \"))\n",
    "print(f\"La somme de {a} et {b} est : {a + b}\")"
   ]
  },
  {
   "cell_type": "markdown",
   "id": "2b7a2788",
   "metadata": {},
   "source": [
    "## Exercice 3"
   ]
  },
  {
   "cell_type": "code",
   "execution_count": null,
   "id": "ecec6d4c",
   "metadata": {},
   "outputs": [],
   "source": [
    "a = float(input(\"Saisir le premier nombre : \"))\n",
    "b = float(input(\"Saisir le second nombre : \"))\n",
    "print(f\"Le maximum entre {a} et {b} est : {max(a, b)}\")"
   ]
  },
  {
   "cell_type": "markdown",
   "id": "f638d80b",
   "metadata": {},
   "source": [
    "## Exercice 4"
   ]
  },
  {
   "cell_type": "code",
   "execution_count": null,
   "id": "f84cfc71",
   "metadata": {},
   "outputs": [],
   "source": [
    "for i in range(1, 101):\n",
    "    print(i)"
   ]
  },
  {
   "cell_type": "markdown",
   "id": "483d9797",
   "metadata": {},
   "source": [
    "## Exercice 5"
   ]
  },
  {
   "cell_type": "code",
   "execution_count": null,
   "id": "6eef7d6d",
   "metadata": {},
   "outputs": [],
   "source": [
    "n = int(input(\"Saisir un nombre entier : \"))\n",
    "if n % 2 == 0:\n",
    "    print(\"Le nombre est pair\")\n",
    "else:\n",
    "    print(\"Le nombre est impair\")"
   ]
  },
  {
   "cell_type": "markdown",
   "id": "a2d78feb",
   "metadata": {},
   "source": [
    "## Exercice 6"
   ]
  },
  {
   "cell_type": "code",
   "execution_count": null,
   "id": "a9b80f9a",
   "metadata": {},
   "outputs": [],
   "source": [
    "age = int(input(\"Saisir votre âge : \"))\n",
    "if age >= 18:\n",
    "    print(\"Vous êtes majeur!\")\n",
    "else:\n",
    "    print(\"Vous êtes mineur!\")"
   ]
  },
  {
   "cell_type": "markdown",
   "id": "5515e591",
   "metadata": {},
   "source": [
    "## Exercice 7"
   ]
  },
  {
   "cell_type": "code",
   "execution_count": null,
   "id": "3a908691",
   "metadata": {},
   "outputs": [],
   "source": [
    "x = float(input(\"Saisir le premier nombre : \"))\n",
    "y = float(input(\"Saisir le second nombre : \"))\n",
    "z = float(input(\"Saisir le troisième nombre : \"))\n",
    "print(f\"Le maximum entre {x}, {y}, et {z} est : {max(x, y, z)}\")"
   ]
  },
  {
   "cell_type": "markdown",
   "id": "0d8c3253",
   "metadata": {},
   "source": [
    "## Exercice 8"
   ]
  },
  {
   "cell_type": "code",
   "execution_count": null,
   "id": "d7caf265",
   "metadata": {},
   "outputs": [],
   "source": [
    "n = int(input(\"Saisir un nombre entier n : \"))\n",
    "somme = sum(range(1, n + 1))\n",
    "print(f\"La somme des entiers de 1 à {n} est : {somme}\")"
   ]
  },
  {
   "cell_type": "markdown",
   "id": "c6ecd904",
   "metadata": {},
   "source": [
    "## Exercice 9"
   ]
  },
  {
   "cell_type": "code",
   "execution_count": null,
   "id": "6c39565a",
   "metadata": {},
   "outputs": [],
   "source": [
    "import math\n",
    "n = int(input(\"Saisir un nombre entier n : \"))\n",
    "print(f\"Le factoriel de {n} est : {math.factorial(n)}\")"
   ]
  },
  {
   "cell_type": "markdown",
   "id": "920dbe4e",
   "metadata": {},
   "source": [
    "## Exercice 10"
   ]
  },
  {
   "cell_type": "code",
   "execution_count": null,
   "id": "2463ab1d",
   "metadata": {},
   "outputs": [],
   "source": [
    "import math\n",
    "r = float(input(\"Saisir le rayon d'un cercle : \"))\n",
    "surface = math.pi * r ** 2\n",
    "perimetre = 2 * math.pi * r\n",
    "print(f\"La surface est : {surface}, et le périmètre est : {perimetre}\")"
   ]
  },
  {
   "cell_type": "markdown",
   "id": "7a4f0769",
   "metadata": {},
   "source": [
    "## Exercice 11"
   ]
  },
  {
   "cell_type": "code",
   "execution_count": null,
   "id": "d446d75b",
   "metadata": {},
   "outputs": [],
   "source": [
    "n = int(input(\"Saisir un nombre entier n : \"))\n",
    "diviseurs = [i for i in range(1, n + 1) if n % i == 0]\n",
    "print(f\"Les diviseurs de {n} sont : {diviseurs}\")"
   ]
  },
  {
   "cell_type": "markdown",
   "id": "90f6076c",
   "metadata": {},
   "source": [
    "## Exercice 12"
   ]
  },
  {
   "cell_type": "code",
   "execution_count": null,
   "id": "826cec49",
   "metadata": {},
   "outputs": [],
   "source": [
    "# Partie 1\n",
    "n = int(input(\"Saisir un nombre entier n : \"))\n",
    "for i in range(1, 11):\n",
    "    print(f\"{n} x {i} = {n * i}\")\n",
    "\n",
    "# Partie 2\n",
    "for n in range(1, 10):\n",
    "    print(f\"\\nTable de multiplication de {n}:\")\n",
    "    for i in range(1, 11):\n",
    "        print(f\"{n} x {i} = {n * i}\")"
   ]
  },
  {
   "cell_type": "markdown",
   "id": "64a86575",
   "metadata": {},
   "source": [
    "## Exercice 13"
   ]
  },
  {
   "cell_type": "code",
   "execution_count": null,
   "id": "fbcc359a",
   "metadata": {},
   "outputs": [],
   "source": [
    "a = int(input(\"Saisir un nombre entier a : \"))\n",
    "b = int(input(\"Saisir un nombre entier b : \"))\n",
    "quotient, reste = divmod(a, b)\n",
    "print(f\"Le quotient est {quotient} et le reste est {reste}\")"
   ]
  },
  {
   "cell_type": "markdown",
   "id": "f66a45dd",
   "metadata": {},
   "source": [
    "## Exercice 14"
   ]
  },
  {
   "cell_type": "code",
   "execution_count": null,
   "id": "3bbdddc3",
   "metadata": {},
   "outputs": [],
   "source": [
    "import math\n",
    "n = int(input(\"Saisir un nombre entier n : \"))\n",
    "if math.isqrt(n) ** 2 == n:\n",
    "    print(f\"{n} est un carré parfait\")\n",
    "else:\n",
    "    print(f\"{n} n'est pas un carré parfait\")"
   ]
  },
  {
   "cell_type": "markdown",
   "id": "0b0d4def",
   "metadata": {},
   "source": [
    "## Exercice 15"
   ]
  },
  {
   "cell_type": "code",
   "execution_count": null,
   "id": "f86e3427",
   "metadata": {},
   "outputs": [],
   "source": [
    "n = int(input(\"Saisir un nombre entier n : \"))\n",
    "if n > 1 and all(n % i != 0 for i in range(2, int(n ** 0.5) + 1)):\n",
    "    print(f\"{n} est un nombre premier\")\n",
    "else:\n",
    "    print(f\"{n} n'est pas un nombre premier\")"
   ]
  },
  {
   "cell_type": "markdown",
   "id": "dc5d2901",
   "metadata": {},
   "source": [
    "## Exercice 16"
   ]
  },
  {
   "cell_type": "code",
   "execution_count": null,
   "id": "618d4f93",
   "metadata": {},
   "outputs": [],
   "source": [
    "s = \"Python\"\n",
    "for char in s:\n",
    "    print(char)"
   ]
  },
  {
   "cell_type": "markdown",
   "id": "bd809da2",
   "metadata": {},
   "source": [
    "## Exercice 17"
   ]
  },
  {
   "cell_type": "code",
   "execution_count": null,
   "id": "7814bbf7",
   "metadata": {},
   "outputs": [],
   "source": [
    "s = \"Python.org\"\n",
    "occurrences = {}\n",
    "for char in s:\n",
    "    occurrences[char] = occurrences.get(char, 0) + 1\n",
    "for char, count in occurrences.items():\n",
    "    print(f\"Le caractère '{char}' figure {count} fois dans la chaine.\")"
   ]
  },
  {
   "cell_type": "markdown",
   "id": "83f17c33",
   "metadata": {},
   "source": [
    "## Exercice 18"
   ]
  },
  {
   "cell_type": "code",
   "execution_count": null,
   "id": "d82756dd",
   "metadata": {},
   "outputs": [],
   "source": [
    "s = input(\"Saisir une chaine : \")\n",
    "positions = [i for i, char in enumerate(s) if char == 'a']\n",
    "if positions:\n",
    "    for pos in positions:\n",
    "        print(f\"La lettre 'a' se trouve à la position : {pos}\")\n",
    "else:\n",
    "    print(\"La lettre 'a' n'est pas présente dans la chaine.\")"
   ]
  },
  {
   "cell_type": "markdown",
   "id": "2942dc36",
   "metadata": {},
   "source": [
    "## Exercice 19"
   ]
  },
  {
   "cell_type": "code",
   "execution_count": null,
   "id": "f71885f5",
   "metadata": {},
   "outputs": [],
   "source": [
    "l = [\"laptop\", \"iphone\", \"tablet\"]\n",
    "for item in l:\n",
    "    print(f\"{item} - longueur : {len(item)}\")"
   ]
  },
  {
   "cell_type": "markdown",
   "id": "be99b0fa",
   "metadata": {},
   "source": [
    "## Exercice 20"
   ]
  },
  {
   "cell_type": "code",
   "execution_count": null,
   "id": "23fc1775",
   "metadata": {},
   "outputs": [],
   "source": [
    "s = input(\"Saisir une chaine : \")\n",
    "s = s[-1] + s[1:-1] + s[0] if len(s) > 1 else s\n",
    "print(\"Résultat :\", s)"
   ]
  },
  {
   "cell_type": "markdown",
   "id": "ecf300f4",
   "metadata": {},
   "source": [
    "## Exercice 21"
   ]
  },
  {
   "cell_type": "code",
   "execution_count": null,
   "id": "44be4bca",
   "metadata": {},
   "outputs": [],
   "source": [
    "s = \"anticonstitutionnellement\"\n",
    "voyelles = \"aeiouy\"\n",
    "nb_voyelles = sum(1 for char in s if char in voyelles)\n",
    "print(f\"La chaine '{s}' possède {nb_voyelles} voyelles.\")"
   ]
  },
  {
   "cell_type": "markdown",
   "id": "47456755",
   "metadata": {},
   "source": [
    "## Exercice 22"
   ]
  },
  {
   "cell_type": "code",
   "execution_count": null,
   "id": "3e45d9f1",
   "metadata": {},
   "outputs": [],
   "source": [
    "t = \"Python est un merveilleux langage de programmation\"\n",
    "print(\"Le premier mot est :\", t.split()[0])"
   ]
  },
  {
   "cell_type": "markdown",
   "id": "9a27d31d",
   "metadata": {},
   "source": [
    "## Exercice 23"
   ]
  },
  {
   "cell_type": "code",
   "execution_count": null,
   "id": "b53e74e0",
   "metadata": {},
   "outputs": [],
   "source": [
    "fichier = input(\"Saisir le nom d'un fichier : \")\n",
    "extension = fichier.split('.')[-1]\n",
    "print(f\"L'extension du fichier est : .{extension}\")"
   ]
  },
  {
   "cell_type": "markdown",
   "id": "ea9cf361",
   "metadata": {},
   "source": [
    "## Exercice 24"
   ]
  },
  {
   "cell_type": "code",
   "execution_count": null,
   "id": "077814ff",
   "metadata": {},
   "outputs": [],
   "source": [
    "mot = input(\"Saisir un mot : \")\n",
    "if mot == mot[::-1]:\n",
    "    print(f\"{mot} est un palindrome\")\n",
    "else:\n",
    "    print(f\"{mot} n'est pas un palindrome\")"
   ]
  },
  {
   "cell_type": "markdown",
   "id": "b98186c3",
   "metadata": {},
   "source": [
    "## Exercice 25"
   ]
  },
  {
   "cell_type": "code",
   "execution_count": null,
   "id": "111b80fd",
   "metadata": {},
   "outputs": [],
   "source": [
    "mot = input(\"Saisir un mot : \")\n",
    "print(\"L'inverse est :\", mot[::-1])"
   ]
  },
  {
   "cell_type": "markdown",
   "id": "cc7c06d2",
   "metadata": {},
   "source": [
    "## Exercice 26"
   ]
  },
  {
   "cell_type": "code",
   "execution_count": null,
   "id": "5d76cd37",
   "metadata": {},
   "outputs": [],
   "source": [
    "texte = input(\"Saisir un texte : \")\n",
    "mots = [mot for mot in texte.split() if mot.startswith('a')]\n",
    "print(\"Mots commençant par 'a' :\", mots)"
   ]
  },
  {
   "cell_type": "markdown",
   "id": "10889eb4",
   "metadata": {},
   "source": [
    "## Exercice 27"
   ]
  },
  {
   "cell_type": "code",
   "execution_count": null,
   "id": "d1d31ae9",
   "metadata": {},
   "outputs": [],
   "source": [
    "def somme_liste(l):\n",
    "    return sum(l)\n",
    "\n",
    "def produit_liste(l):\n",
    "    produit = 1\n",
    "    for num in l:\n",
    "        produit *= num\n",
    "    return produit\n",
    "\n",
    "print(\"Somme :\", somme_liste([1, 2, 3]))\n",
    "print(\"Produit :\", produit_liste([1, 2, 3]))"
   ]
  },
  {
   "cell_type": "markdown",
   "id": "b30f0fff",
   "metadata": {},
   "source": [
    "## Exercice 28"
   ]
  },
  {
   "cell_type": "code",
   "execution_count": null,
   "id": "066b70e1",
   "metadata": {},
   "outputs": [],
   "source": [
    "def est_vide(obj):\n",
    "    return len(obj) == 0\n",
    "\n",
    "print(\"Liste vide:\", est_vide([]))\n",
    "print(\"Chaine vide:\", est_vide(\"\"))"
   ]
  },
  {
   "cell_type": "markdown",
   "id": "8088181c",
   "metadata": {},
   "source": [
    "## Exercice 29"
   ]
  },
  {
   "cell_type": "code",
   "execution_count": null,
   "id": "8bb10f58",
   "metadata": {},
   "outputs": [],
   "source": [
    "def supprimer_duplicats(l):\n",
    "    return list(set(l))\n",
    "\n",
    "print(\"Sans doublons :\", supprimer_duplicats([1, 2, 2, 3, 3, 3, 4]))"
   ]
  },
  {
   "cell_type": "markdown",
   "id": "ba8ded14",
   "metadata": {},
   "source": [
    "## Exercice 30"
   ]
  },
  {
   "cell_type": "code",
   "execution_count": null,
   "id": "4de57c8d",
   "metadata": {},
   "outputs": [],
   "source": [
    "def ont_valeur_commune(l1, l2):\n",
    "    return bool(set(l1) & set(l2))\n",
    "\n",
    "# Exemple\n",
    "print(\"Valeur commune :\", ont_valeur_commune([1, 2, 3], [3, 4, 5]))"
   ]
  },
  {
   "cell_type": "markdown",
   "id": "aa66e990",
   "metadata": {},
   "source": [
    "## Exercice 31"
   ]
  },
  {
   "cell_type": "code",
   "execution_count": null,
   "id": "1cb74e5b",
   "metadata": {},
   "outputs": [],
   "source": [
    "def extraire_pairs_impairs(l):\n",
    "    pairs = [x for x in l if x % 2 == 0]\n",
    "    impairs = [x for x in l if x % 2 != 0]\n",
    "    return pairs, impairs\n",
    "\n",
    "# Exemple\n",
    "print(\"Pairs et Impairs :\", extraire_pairs_impairs([1, 2, 3, 4, 5]))"
   ]
  },
  {
   "cell_type": "markdown",
   "id": "495aee77",
   "metadata": {},
   "source": [
    "## Exercice 32"
   ]
  },
  {
   "cell_type": "code",
   "execution_count": null,
   "id": "6ab364e8",
   "metadata": {},
   "outputs": [],
   "source": [
    "from itertools import permutations\n",
    "\n",
    "def permuter_elements(l):\n",
    "    return list(permutations(l))\n",
    "\n",
    "# Exemple\n",
    "print(\"Permutations :\", permuter_elements([1, 2, 3]))"
   ]
  },
  {
   "cell_type": "markdown",
   "id": "402711a7",
   "metadata": {},
   "source": [
    "## Exercice 33"
   ]
  },
  {
   "cell_type": "code",
   "execution_count": null,
   "id": "146f25c7",
   "metadata": {},
   "outputs": [],
   "source": [
    "s = input(\"Saisir une chaine : \")\n",
    "print(\"Caractères d'indice pair :\", s[::2])"
   ]
  },
  {
   "cell_type": "markdown",
   "id": "c66776b7",
   "metadata": {},
   "source": [
    "## Exercice 34"
   ]
  },
  {
   "cell_type": "code",
   "execution_count": null,
   "id": "a3a36c1c",
   "metadata": {},
   "outputs": [],
   "source": [
    "notes = [12, 4, 14, 11, 18, 13, 7, 10, 5, 9, 15, 8, 14, 16]\n",
    "au_dessus_moyenne = [note for note in notes if note >= 10]\n",
    "print(\"Notes au-dessus de la moyenne :\", au_dessus_moyenne)"
   ]
  },
  {
   "cell_type": "markdown",
   "id": "779bcc77",
   "metadata": {},
   "source": [
    "## Exercice 35"
   ]
  },
  {
   "cell_type": "code",
   "execution_count": null,
   "id": "53797a62",
   "metadata": {},
   "outputs": [],
   "source": [
    "url = input(\"Saisir une URL : \")\n",
    "print(f\"<a href='{url}'>{url}</a>\")"
   ]
  },
  {
   "cell_type": "markdown",
   "id": "016fa1ce",
   "metadata": {},
   "source": [
    "## Exercice 36"
   ]
  },
  {
   "cell_type": "code",
   "execution_count": null,
   "id": "4f529513",
   "metadata": {},
   "outputs": [],
   "source": [
    "s = input(\"Saisir une chaine avec espaces multiples : \")\n",
    "s_sans_espaces_multiples = ' '.join(s.split())\n",
    "print(\"Sans espaces multiples :\", s_sans_espaces_multiples)"
   ]
  },
  {
   "cell_type": "markdown",
   "id": "21e67412",
   "metadata": {},
   "source": [
    "## Exercice 37"
   ]
  },
  {
   "cell_type": "code",
   "execution_count": null,
   "id": "f3de9e55",
   "metadata": {},
   "outputs": [],
   "source": [
    "s1 = \"Python est un langage de programmation\"\n",
    "s2 = \"Python est orienté objet\"\n",
    "mots_communs = list(set(s1.split()) & set(s2.split()))\n",
    "print(\"Mots communs :\", mots_communs)"
   ]
  },
  {
   "cell_type": "markdown",
   "id": "568b0866",
   "metadata": {},
   "source": [
    "## Exercice 38"
   ]
  },
  {
   "cell_type": "code",
   "execution_count": null,
   "id": "44183b6b",
   "metadata": {},
   "outputs": [],
   "source": [
    "s = input(\"Saisir une chaine : \")\n",
    "mot_le_plus_long = max(s.split(), key=len)\n",
    "print(\"Mot le plus long :\", mot_le_plus_long)"
   ]
  },
  {
   "cell_type": "markdown",
   "id": "4f929958",
   "metadata": {},
   "source": [
    "## Exercice 39"
   ]
  },
  {
   "cell_type": "code",
   "execution_count": null,
   "id": "2eae9832",
   "metadata": {},
   "outputs": [],
   "source": [
    "s = input(\"Saisir une chaine : \")\n",
    "nombre_mots = len(s.split())\n",
    "print(\"Nombre de mots :\", nombre_mots)"
   ]
  },
  {
   "cell_type": "markdown",
   "id": "699e563b",
   "metadata": {},
   "source": [
    "## Exercice 40"
   ]
  },
  {
   "cell_type": "code",
   "execution_count": 7,
   "id": "b4fbb888",
   "metadata": {},
   "outputs": [
    {
     "name": "stdout",
     "output_type": "stream",
     "text": [
      "Chaine avec premier et dernier mot échangés : programmation est un langage de Python\n"
     ]
    }
   ],
   "source": [
    "s = \"Python est un langage de programmation\"\n",
    "mots = s.split()\n",
    "mots[0], mots[-1] = mots[-1], mots[0]\n",
    "s_echangee = ' '.join(mots)\n",
    "print(\"Chaine avec premier et dernier mot échangés :\", s_echangee)"
   ]
  },
  {
   "cell_type": "markdown",
   "id": "f72e8bd1",
   "metadata": {},
   "source": [
    "## Exercice 41"
   ]
  },
  {
   "cell_type": "code",
   "execution_count": null,
   "id": "5ac665cc",
   "metadata": {},
   "outputs": [],
   "source": [
    "def nombreDivisibles(l, n):\n",
    "    return sum(1 for x in l if x % n == 0)\n",
    "\n",
    "# Exemple\n",
    "print(\"Nombre d'éléments divisibles :\", nombreDivisibles([2, 4, 6, 8], 2))"
   ]
  },
  {
   "cell_type": "markdown",
   "id": "0e34596e",
   "metadata": {},
   "source": [
    "## Exercice 42"
   ]
  },
  {
   "cell_type": "code",
   "execution_count": 6,
   "id": "7e03b089",
   "metadata": {},
   "outputs": [
    {
     "name": "stdout",
     "output_type": "stream",
     "text": [
      "Nombre d'occurrences : 3\n"
     ]
    }
   ],
   "source": [
    "def nombreOccurences(L, x):\n",
    "    return sum(1 for i in L if i == x)\n",
    "\n",
    "# Exemple\n",
    "print(\"Nombre d'occurrences :\", nombreOccurences([1, 2, 2, 3, 2], 2))"
   ]
  },
  {
   "cell_type": "markdown",
   "id": "00e8ffee",
   "metadata": {},
   "source": [
    "## Exercice 43"
   ]
  },
  {
   "cell_type": "code",
   "execution_count": 5,
   "id": "8dbb6f70",
   "metadata": {},
   "outputs": [
    {
     "name": "stdout",
     "output_type": "stream",
     "text": [
      "Avec étoiles : P*y*t*h*o*n\n"
     ]
    }
   ],
   "source": [
    "def InsertEtoile(s):\n",
    "    return '*'.join(s)\n",
    "\n",
    "# Exemple\n",
    "print(\"Avec étoiles :\", InsertEtoile(\"Python\"))"
   ]
  },
  {
   "cell_type": "markdown",
   "id": "6dde41ab",
   "metadata": {},
   "source": [
    "## Exercice 44"
   ]
  },
  {
   "cell_type": "code",
   "execution_count": 4,
   "id": "acea74a7",
   "metadata": {},
   "outputs": [
    {
     "name": "stdout",
     "output_type": "stream",
     "text": [
      "Liste en majuscule : ['PYTHON', 'EST', 'UN', 'LANGAGE', 'DE', 'PROGRAMMATION']\n"
     ]
    }
   ],
   "source": [
    "def toutEnMajuscule(L):\n",
    "    return [mot.upper() for mot in L]\n",
    "\n",
    "# Exemple\n",
    "L = [\"Python\", \"est\", \"un\", \"langage\", \"de\", \"programmation\"]\n",
    "print(\"Liste en majuscule :\", toutEnMajuscule(L))"
   ]
  },
  {
   "cell_type": "markdown",
   "id": "f611e581",
   "metadata": {},
   "source": [
    "## Exercice 45"
   ]
  },
  {
   "cell_type": "code",
   "execution_count": 3,
   "id": "38b5dc54",
   "metadata": {},
   "outputs": [
    {
     "name": "stdout",
     "output_type": "stream",
     "text": [
      "Majuscules et minuscules : (3, 16)\n"
     ]
    }
   ],
   "source": [
    "def compter_maj_min(s):\n",
    "    nb_majuscules = sum(1 for c in s if c.isupper())\n",
    "    nb_minuscules = sum(1 for c in s if c.islower())\n",
    "    return nb_majuscules, nb_minuscules\n",
    "\n",
    "# Exemple\n",
    "print(\"Majuscules et minuscules :\", compter_maj_min(\"PythonEstFormidable\"))"
   ]
  },
  {
   "cell_type": "markdown",
   "id": "c1fb8451",
   "metadata": {},
   "source": [
    "## Exercice 46"
   ]
  },
  {
   "cell_type": "code",
   "execution_count": 2,
   "id": "8ef3eea8",
   "metadata": {},
   "outputs": [
    {
     "name": "stdout",
     "output_type": "stream",
     "text": [
      "Chiffres du nombre : [1, 2, 3, 4, 5]\n"
     ]
    }
   ],
   "source": [
    "def extraire_chiffres(n):\n",
    "    chiffres = []\n",
    "    while n > 0:\n",
    "        chiffres.append(n % 10)\n",
    "        n //= 10\n",
    "    return chiffres[::-1]\n",
    "\n",
    "# Exemple\n",
    "print(\"Chiffres du nombre :\", extraire_chiffres(12345))"
   ]
  },
  {
   "cell_type": "markdown",
   "id": "6186bb93",
   "metadata": {},
   "source": [
    "## Exercice 47"
   ]
  },
  {
   "cell_type": "code",
   "execution_count": 1,
   "id": "9f13ecc4",
   "metadata": {},
   "outputs": [
    {
     "name": "stdout",
     "output_type": "stream",
     "text": [
      "Mots communs : ['est', 'Python']\n"
     ]
    }
   ],
   "source": [
    "def mots_communs(t1, t2):\n",
    "    mots_t1 = set(t1.split())\n",
    "    mots_t2 = set(t2.split())\n",
    "    return list(mots_t1 & mots_t2)\n",
    "\n",
    "# Exemple\n",
    "T1 = \"Python est un langage de programmation\"\n",
    "T2 = \"Python est orienté objet\"\n",
    "print(\"Mots communs :\", mots_communs(T1, T2))"
   ]
  }
 ],
 "metadata": {
  "kernelspec": {
   "display_name": "Python 3",
   "language": "python",
   "name": "python3"
  },
  "language_info": {
   "codemirror_mode": {
    "name": "ipython",
    "version": 3
   },
   "file_extension": ".py",
   "mimetype": "text/x-python",
   "name": "python",
   "nbconvert_exporter": "python",
   "pygments_lexer": "ipython3",
   "version": "3.12.4"
  }
 },
 "nbformat": 4,
 "nbformat_minor": 5
}
